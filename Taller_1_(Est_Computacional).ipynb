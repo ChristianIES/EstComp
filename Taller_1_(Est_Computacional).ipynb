{
  "nbformat": 4,
  "nbformat_minor": 0,
  "metadata": {
    "colab": {
      "name": "Taller 1 (Est Computacional).ipynb",
      "provenance": [],
      "collapsed_sections": [],
      "authorship_tag": "ABX9TyMsrEiNadJzblkfXx8i1bLX",
      "include_colab_link": true
    },
    "kernelspec": {
      "name": "python3",
      "display_name": "Python 3"
    },
    "language_info": {
      "name": "python"
    }
  },
  "cells": [
    {
      "cell_type": "markdown",
      "metadata": {
        "id": "view-in-github",
        "colab_type": "text"
      },
      "source": [
        "<a href=\"https://colab.research.google.com/github/ChristianIES/EstComp/blob/main/Taller_1_(Est_Computacional).ipynb\" target=\"_parent\"><img src=\"https://colab.research.google.com/assets/colab-badge.svg\" alt=\"Open In Colab\"/></a>"
      ]
    },
    {
      "cell_type": "markdown",
      "source": [
        "# Taller 1 Estadística Computacional (Doctorado)\n",
        "## 1. Fundamentales\n",
        "\n",
        "\n",
        "\n",
        "*   Hello World:"
      ],
      "metadata": {
        "id": "A5ZABaHtzuhg"
      }
    },
    {
      "cell_type": "code",
      "execution_count": 1,
      "metadata": {
        "colab": {
          "base_uri": "https://localhost:8080/"
        },
        "id": "nr7vzYSlqttc",
        "outputId": "9b4b4d1c-c2a5-4a07-8dd7-a0efa56dec73"
      },
      "outputs": [
        {
          "output_type": "stream",
          "name": "stdout",
          "text": [
            "Hello world!\n"
          ]
        }
      ],
      "source": [
        "print(\"Hello world!\")"
      ]
    },
    {
      "cell_type": "markdown",
      "source": [
        "\n",
        "*   Operaciones básicas en Python:"
      ],
      "metadata": {
        "id": "AyqVHZOkz8Fo"
      }
    },
    {
      "cell_type": "code",
      "source": [
        "n1 = int(input(\"Enter a number: \"))\n",
        "n2 = int(input(\"Enter a number: \"))\n",
        "print(\"Addition = \", n1 + n2)\n",
        "print(\"Substraction = \", n1 - n2)\n",
        "print(\"Product = \", n1 * n2)\n",
        "print(\"Division = \", n1 / n2)\n",
        "print(\"Power = \", n1 ** n2)\n",
        "print(\"Integer Division = \", n1 // n2)\n",
        "print(\"Module = \", n1 % n2)"
      ],
      "metadata": {
        "colab": {
          "base_uri": "https://localhost:8080/"
        },
        "id": "elCDp6oLrGek",
        "outputId": "a083ee5f-909d-4ea6-b939-3a41d6d85b76"
      },
      "execution_count": 2,
      "outputs": [
        {
          "output_type": "stream",
          "name": "stdout",
          "text": [
            "Enter a number: 18\n",
            "Enter a number: 5\n",
            "Addition =  23\n",
            "Substraction =  13\n",
            "Product =  90\n",
            "Division =  3.6\n",
            "Power =  1889568\n",
            "Integer Division =  3\n",
            "Module =  3\n"
          ]
        }
      ]
    },
    {
      "cell_type": "markdown",
      "source": [
        "* División entera y módulo:"
      ],
      "metadata": {
        "id": "dS2rK_h-0Jzo"
      }
    },
    {
      "cell_type": "code",
      "source": [
        "a = int(input(\"Ingrese número entero: \"))\n",
        "b = int(input(\"Ingrese número entero: \"))\n",
        "x1 = a//b\n",
        "x2 = a%b\n",
        "x3 = b\n",
        "print(\"El resultado es: \", x1, \"*\", x2, \"/\", x3)\n",
        "print(\"El resultado es %d %d/%d\" %(x1,x2,x3))\n"
      ],
      "metadata": {
        "colab": {
          "base_uri": "https://localhost:8080/"
        },
        "id": "GnMhhDTWrR3b",
        "outputId": "f05d87fc-8cd9-4912-9695-16615903662b"
      },
      "execution_count": 3,
      "outputs": [
        {
          "output_type": "stream",
          "name": "stdout",
          "text": [
            "Ingrese número entero: 35\n",
            "Ingrese número entero: 4\n",
            "El resultado es:  8 * 3 / 4\n",
            "El resultado es 8 3/4\n"
          ]
        }
      ]
    },
    {
      "cell_type": "markdown",
      "source": [
        "* Tipo bool en Python:"
      ],
      "metadata": {
        "id": "R4GeFQDl0O1T"
      }
    },
    {
      "cell_type": "code",
      "source": [
        "p = bool(int(input(\"Ingrese 0 (Falso) o 1 (Verdadero) :\")))\n",
        "q = bool(int(input(\"Ingrese 0 (Falso) o 1 (Verdadero) :\")))\n",
        "print(\"p =\",p, \" not p = \", not p)\n",
        "print(\"q =\",q, \" not q = \", not q)\n",
        "print(p,\" and \", q, \" es \", p and q)\n",
        "print(p,\" or \", q, \" es \", p or q)\n",
        "print(p,\" xor \", q, \" es \", p ^ q)"
      ],
      "metadata": {
        "colab": {
          "base_uri": "https://localhost:8080/"
        },
        "id": "X67o0cK7rgrZ",
        "outputId": "bdfb7c39-46fb-4044-b14e-65005f08e730"
      },
      "execution_count": 4,
      "outputs": [
        {
          "output_type": "stream",
          "name": "stdout",
          "text": [
            "Ingrese 0 (Falso) o 1 (Verdadero) :1\n",
            "Ingrese 0 (Falso) o 1 (Verdadero) :1\n",
            "p = True  not p =  False\n",
            "q = True  not q =  False\n",
            "True  and  True  es  True\n",
            "True  or  True  es  True\n",
            "True  xor  True  es  False\n"
          ]
        }
      ]
    },
    {
      "cell_type": "code",
      "source": [
        "p = bool(int(input(\"Ingrese 0 (Falso) o 1 (Verdadero) :\")))\n",
        "q = bool(int(input(\"Ingrese 0 (Falso) o 1 (Verdadero) :\")))\n",
        "print((p and q) or (not p and q))"
      ],
      "metadata": {
        "colab": {
          "base_uri": "https://localhost:8080/"
        },
        "id": "53mbLT1crs6J",
        "outputId": "ee2b64e5-366b-4cd5-9130-64b14ec11a7d"
      },
      "execution_count": 6,
      "outputs": [
        {
          "output_type": "stream",
          "name": "stdout",
          "text": [
            "Ingrese 0 (Falso) o 1 (Verdadero) :0\n",
            "Ingrese 0 (Falso) o 1 (Verdadero) :0\n",
            "False\n"
          ]
        }
      ]
    },
    {
      "cell_type": "markdown",
      "source": [
        "* Prioridad de las operaciones en Python:"
      ],
      "metadata": {
        "id": "T37-H1VU0VI2"
      }
    },
    {
      "cell_type": "code",
      "source": [
        "izq=3*5/2-4**2\n",
        "print(izq)\n",
        "der=5-3/2**3\n",
        "print(der)\n",
        "izq1=(((((3*5)/2)-(4**2))))\n",
        "print(izq1)"
      ],
      "metadata": {
        "colab": {
          "base_uri": "https://localhost:8080/"
        },
        "id": "LUs0fc8Wr9vM",
        "outputId": "8e6ee486-9af0-4a12-819e-f690162f39d0"
      },
      "execution_count": 11,
      "outputs": [
        {
          "output_type": "stream",
          "name": "stdout",
          "text": [
            "-8.5\n",
            "4.625\n",
            "-8.5\n"
          ]
        }
      ]
    },
    {
      "cell_type": "markdown",
      "source": [
        "* Estructuras de Datos en Python:"
      ],
      "metadata": {
        "id": "dHX5RlC90Xz9"
      }
    },
    {
      "cell_type": "code",
      "source": [
        "lista=[7,3,2,1,4]\n",
        "lista"
      ],
      "metadata": {
        "colab": {
          "base_uri": "https://localhost:8080/"
        },
        "id": "eonEAiEhyf_Y",
        "outputId": "0017741e-76d6-4bd0-9223-1bd4f44edb80"
      },
      "execution_count": 21,
      "outputs": [
        {
          "output_type": "execute_result",
          "data": {
            "text/plain": [
              "[7, 3, 2, 1, 4]"
            ]
          },
          "metadata": {},
          "execution_count": 21
        }
      ]
    },
    {
      "cell_type": "code",
      "source": [
        "type(lista)"
      ],
      "metadata": {
        "colab": {
          "base_uri": "https://localhost:8080/"
        },
        "id": "aTnKI-FtzTxJ",
        "outputId": "82ff6a85-fbae-4098-d6b3-b49a74ffb537"
      },
      "execution_count": 22,
      "outputs": [
        {
          "output_type": "execute_result",
          "data": {
            "text/plain": [
              "list"
            ]
          },
          "metadata": {},
          "execution_count": 22
        }
      ]
    },
    {
      "cell_type": "code",
      "source": [
        "lista[0:5]"
      ],
      "metadata": {
        "colab": {
          "base_uri": "https://localhost:8080/"
        },
        "id": "RujlOvEfzXl_",
        "outputId": "7e56af57-bcee-4b69-e6c2-aec6aa7b7aff"
      },
      "execution_count": 24,
      "outputs": [
        {
          "output_type": "execute_result",
          "data": {
            "text/plain": [
              "[7, 3, 2, 1, 4]"
            ]
          },
          "metadata": {},
          "execution_count": 24
        }
      ]
    },
    {
      "cell_type": "markdown",
      "source": [
        "## 2. Estructuras de control\n",
        "\n",
        "* Revisar si un número es par o impar:"
      ],
      "metadata": {
        "id": "-S127Ufi5K5C"
      }
    },
    {
      "cell_type": "code",
      "source": [
        "n1=int(input(\"Ingrese un número entero:\"))\n",
        "if n1%2==0:\n",
        "  print(\"El número ingresado es par\")\n",
        "else:\n",
        "  print(\"El número ingresado es impar\")\n",
        "print(\"Usted ingresó \",n1)"
      ],
      "metadata": {
        "colab": {
          "base_uri": "https://localhost:8080/"
        },
        "id": "z8IsJdAe5SCs",
        "outputId": "4447703c-e798-4e40-e299-1bdb3197ca05"
      },
      "execution_count": 28,
      "outputs": [
        {
          "output_type": "stream",
          "name": "stdout",
          "text": [
            "Ingrese un número entero:185\n",
            "El número ingresado es impar\n",
            "Usted ingresó  185\n"
          ]
        }
      ]
    },
    {
      "cell_type": "markdown",
      "source": [
        "* Revisar el status de aprobación de un estudiante:"
      ],
      "metadata": {
        "id": "RodWKs3f9x_i"
      }
    },
    {
      "cell_type": "code",
      "source": [
        "nota=float(input(\"Ingrese una nota del curso (número real entre 1 y 7): \"))\n",
        "if nota>=4:\n",
        "  print(\"El estudiante aprobó con: \",nota)\n",
        "else:\n",
        "  print(\"El estudiante reprobó con: \", nota)\n",
        "print(\"Fin del programa\")"
      ],
      "metadata": {
        "colab": {
          "base_uri": "https://localhost:8080/"
        },
        "id": "z6dY0phr91Yh",
        "outputId": "c29ecadc-211a-4df7-a23a-6b1cd6fb9908"
      },
      "execution_count": 30,
      "outputs": [
        {
          "output_type": "stream",
          "name": "stdout",
          "text": [
            "Ingrese una nota del curso (número real entre 1 y 7): 3.75\n",
            "El estudiante reprobó con:  3.75\n",
            "Fin del programa\n"
          ]
        }
      ]
    },
    {
      "cell_type": "markdown",
      "source": [
        "* Análisis del discriminante en ecuación de segundo grado:"
      ],
      "metadata": {
        "id": "tlsNR3VL-PrT"
      }
    },
    {
      "cell_type": "code",
      "source": [
        "print(\"** Para raíz (raíces) de ax^2+bx+c=0 **\")\n",
        "a=float(input(\"Ingrese a: \"))\n",
        "b=float(input(\"Ingrese b: \"))\n",
        "c=float(input(\"Ingrese c: \"))\n",
        "disc=b**2-4*a*c\n",
        "if disc==0:\n",
        "  print(\"Existe una raíz real única\")\n",
        "elif disc>0:\n",
        "  print(\"Existen dos raíces reales\")\n",
        "else:\n",
        "  print(\"Soluciones imaginarias\")\n",
        "print(\"El discriminante es igual a: \", disc)"
      ],
      "metadata": {
        "colab": {
          "base_uri": "https://localhost:8080/"
        },
        "id": "kuttL7NN-S7s",
        "outputId": "2cb67b8e-146c-483a-bd91-30d276641b03"
      },
      "execution_count": 32,
      "outputs": [
        {
          "output_type": "stream",
          "name": "stdout",
          "text": [
            "** Para raíz (raíces) de ax^2+bx+c=0 **\n",
            "Ingrese a: 3\n",
            "Ingrese b: 4\n",
            "Ingrese c: 2\n",
            "Soluciones imaginarias\n",
            "El discriminante es igual a:  -8.0\n"
          ]
        }
      ]
    },
    {
      "cell_type": "markdown",
      "source": [
        "* Palabras con vocales:"
      ],
      "metadata": {
        "id": "zeEDtkLI_E2O"
      }
    },
    {
      "cell_type": "code",
      "source": [
        "vocal=input(\"Ingrese una vocal: \")\n",
        "if vocal==\"a\" or vocal==\"A\":\n",
        "  print(\"Auto\")\n",
        "elif vocal==\"e\" or vocal==\"E\":\n",
        "  print(\"Elefante\")\n",
        "elif vocal==\"i\" or vocal==\"I\":\n",
        "  print(\"Iglesia\")\n",
        "elif vocal==\"o\" or vocal==\"O\":\n",
        "  print(\"Ojo\")\n",
        "elif vocal==\"u\" or vocal==\"U\":\n",
        "  print(\"Uva\")\n",
        "else:\n",
        "  print(\"No es vocal\")"
      ],
      "metadata": {
        "colab": {
          "base_uri": "https://localhost:8080/"
        },
        "id": "WRofoy0s_Gwr",
        "outputId": "26ad5533-04a8-446d-f38a-0fb19f684b18"
      },
      "execution_count": 35,
      "outputs": [
        {
          "output_type": "stream",
          "name": "stdout",
          "text": [
            "Ingrese una vocal: t\n",
            "No es vocal\n"
          ]
        }
      ]
    },
    {
      "cell_type": "markdown",
      "source": [
        "## 3. Ciclos"
      ],
      "metadata": {
        "id": "17d5onymMfhD"
      }
    },
    {
      "cell_type": "markdown",
      "source": [
        "* Solicitar números y sumar hasta que la suma exceda 100:"
      ],
      "metadata": {
        "id": "PEY9zjVP_2-g"
      }
    },
    {
      "cell_type": "code",
      "source": [
        "suma=0\n",
        "while(suma<=100):\n",
        "  n=float(input(\"Ingrese un número (real o entero): \"))\n",
        "  suma=suma+n\n",
        "  if suma<=100:\n",
        "    print(\"La suma actual es: \",suma)\n",
        "print(\"Excedió 100 con una suma total de: \",suma)"
      ],
      "metadata": {
        "colab": {
          "base_uri": "https://localhost:8080/"
        },
        "id": "CYtaX_HJ_5u8",
        "outputId": "edb3fb4c-c02a-487e-8e40-9ab45e255213"
      },
      "execution_count": 38,
      "outputs": [
        {
          "output_type": "stream",
          "name": "stdout",
          "text": [
            "Ingrese un número (real o entero): 96.5\n",
            "La suma actual es:  96.5\n",
            "Ingrese un número (real o entero): 1\n",
            "La suma actual es:  97.5\n",
            "Ingrese un número (real o entero): 6\n",
            "Excedió 100 con una suma total de:  103.5\n"
          ]
        }
      ]
    },
    {
      "cell_type": "markdown",
      "source": [
        "* N primeros números de la serie de Fibonacci:\n",
        "\n",
        "$x_n = x_{(n-1)}+x_{(n-2)}$\n",
        "\n",
        "$x_1=1, x_2=1$"
      ],
      "metadata": {
        "id": "JFVeGbpgBKIx"
      }
    },
    {
      "cell_type": "code",
      "source": [
        "n=int(input(\"Ingrese un número entero: \"))\n",
        "x1=1\n",
        "x2=1\n",
        "if n<1:\n",
        "  print(\"Ingrese un número mayor o igual a 1\")\n",
        "elif n==1:\n",
        "  print(x1)\n",
        "elif n==2:\n",
        "  print(x1)\n",
        "  print(x2)\n",
        "else:\n",
        "  indicador=1\n",
        "  print(x1)\n",
        "  indicador=indicador+1\n",
        "  print(x2)\n",
        "  indicador=indicador+1\n",
        "  while(indicador <= n):\n",
        "    aux=x1+x2\n",
        "    x1=x2\n",
        "    x2=aux\n",
        "    print(x2)\n",
        "    indicador=indicador+1"
      ],
      "metadata": {
        "colab": {
          "base_uri": "https://localhost:8080/"
        },
        "id": "wbqlIXmuBWAc",
        "outputId": "24754296-874e-48cc-e8b8-9348709442c2"
      },
      "execution_count": 42,
      "outputs": [
        {
          "output_type": "stream",
          "name": "stdout",
          "text": [
            "Ingrese un número entero: 5\n",
            "1\n",
            "1\n",
            "2\n",
            "3\n",
            "5\n"
          ]
        }
      ]
    },
    {
      "cell_type": "markdown",
      "source": [
        "* Imprimir los nombres de una lista:"
      ],
      "metadata": {
        "id": "fFYs9FdmDsyF"
      }
    },
    {
      "cell_type": "code",
      "source": [
        "lista=[\"Pepe\",\"Tina\",\"Toto\",\"Amelia\",\"Laura\"]\n",
        "for i in lista:\n",
        "  print(i)"
      ],
      "metadata": {
        "colab": {
          "base_uri": "https://localhost:8080/"
        },
        "id": "FZWY4wAlDvYB",
        "outputId": "82e40bf9-4e46-473d-9801-ac3d41ac30bc"
      },
      "execution_count": 43,
      "outputs": [
        {
          "output_type": "stream",
          "name": "stdout",
          "text": [
            "Pepe\n",
            "Tina\n",
            "Toto\n",
            "Amelia\n",
            "Laura\n"
          ]
        }
      ]
    },
    {
      "cell_type": "markdown",
      "source": [
        "* Programa que calcula la suma de los primeros $n$ números enteros al cuadrado:\n",
        "\n",
        "$1 + 2^2 + 3^2 + ... + n^2$"
      ],
      "metadata": {
        "id": "iXU_xu1SD9Lh"
      }
    },
    {
      "cell_type": "code",
      "source": [
        "n=int(input(\"Ingrese un número entero: \"))\n",
        "suma=0\n",
        "for i in range(1,n+1):\n",
        "  suma=suma+i**2\n",
        "  print(\"La suma parcial es: \",suma)\n",
        "print(\"La suma total es: \",suma)"
      ],
      "metadata": {
        "colab": {
          "base_uri": "https://localhost:8080/"
        },
        "id": "Rx0qR8ouEIrZ",
        "outputId": "1ab0b247-a067-46fe-ffbf-8cd28f5858d1"
      },
      "execution_count": 47,
      "outputs": [
        {
          "output_type": "stream",
          "name": "stdout",
          "text": [
            "Ingrese un número entero: 4\n",
            "La suma parcial es:  1\n",
            "La suma parcial es:  5\n",
            "La suma parcial es:  14\n",
            "La suma parcial es:  30\n",
            "La suma total es:  30\n"
          ]
        }
      ]
    },
    {
      "cell_type": "markdown",
      "source": [
        "## 4. Funciones"
      ],
      "metadata": {
        "id": "SiCMZx0fMlGC"
      }
    },
    {
      "cell_type": "markdown",
      "source": [
        "* Calculadora que convierte grados Farenheit a Celsius:"
      ],
      "metadata": {
        "id": "0Bm-DgzuGwGe"
      }
    },
    {
      "cell_type": "code",
      "source": [
        "def faren_to_celsius(x):\n",
        "  return (x-32)*5/9\n",
        "\n",
        "t=float(input(\"Ingrese temperatura en grados Farenheit: \"))\n",
        "print(\"La temperatura en grados Farenheit es: \",t)\n",
        "print(\"La temperatura en grados Celsius es:\",faren_to_celsius(t))"
      ],
      "metadata": {
        "colab": {
          "base_uri": "https://localhost:8080/"
        },
        "id": "im0z228CGzvU",
        "outputId": "848c2321-a5cf-4373-9b2e-a2dafb3f5a0b"
      },
      "execution_count": 49,
      "outputs": [
        {
          "output_type": "stream",
          "name": "stdout",
          "text": [
            "Ingrese temperatura en grados Farenheit: 8\n",
            "La temperatura en grados Farenheit es:  8.0\n",
            "La temperatura en grados Celsius es: -13.333333333333334\n"
          ]
        }
      ]
    },
    {
      "cell_type": "markdown",
      "source": [
        "* Calculadora que convierte grados Celsius a Farenheit:"
      ],
      "metadata": {
        "id": "WnA49BwkHWpC"
      }
    },
    {
      "cell_type": "code",
      "source": [
        "def celsius_to_faren(x):\n",
        "  return (9/5)*x+32\n",
        "\n",
        "t=float(input(\"Ingrese temperatura en grados Celsius: \"))\n",
        "print(\"La temperatura en grados Celsius es: \",t)\n",
        "print(\"La temperatura en grados Farenheit es:\",celsius_to_faren(t))"
      ],
      "metadata": {
        "colab": {
          "base_uri": "https://localhost:8080/"
        },
        "id": "H5BPW_-VHazI",
        "outputId": "38186a78-600c-4cc5-852b-72f9c710cfa7"
      },
      "execution_count": 50,
      "outputs": [
        {
          "output_type": "stream",
          "name": "stdout",
          "text": [
            "Ingrese temperatura en grados Celsius: 17.6\n",
            "La temperatura en grados Celsius es:  17.6\n",
            "La temperatura en grados Farenheit es: 63.68000000000001\n"
          ]
        }
      ]
    },
    {
      "cell_type": "markdown",
      "source": [
        "## 5. Algoritmos"
      ],
      "metadata": {
        "id": "d1D3iQAEOAtN"
      }
    },
    {
      "cell_type": "markdown",
      "source": [
        "* Números de Bernoulli:"
      ],
      "metadata": {
        "id": "iue3LjxkOJ4w"
      }
    },
    {
      "cell_type": "code",
      "source": [
        "from fractions import Fraction as Fr\n",
        " \n",
        "def bernoulli(n):\n",
        "    A = [0] * (n+1)\n",
        "    for m in range(n+1):\n",
        "        A[m] = Fr(1, m+1)\n",
        "        for j in range(m, 0, -1):\n",
        "          A[j-1] = j*(A[j-1] - A[j])\n",
        "    return A[0] # (which is Bn)\n",
        " \n",
        "bn = [(i, bernoulli(i)) for i in range(61)]\n",
        "bn = [(i, b) for i,b in bn if b]\n",
        "width = max(len(str(b.numerator)) for i,b in bn)\n",
        "for i,b in bn:\n",
        "    print('B(%2i) = %*i/%i' % (i, width, b.numerator, b.denominator))"
      ],
      "metadata": {
        "colab": {
          "base_uri": "https://localhost:8080/"
        },
        "id": "SzNAW7tJOHUF",
        "outputId": "2420d8aa-2563-4972-fb04-4c5f9a5a26c3"
      },
      "execution_count": 51,
      "outputs": [
        {
          "output_type": "stream",
          "name": "stdout",
          "text": [
            "B( 0) =                                            1/1\n",
            "B( 1) =                                            1/2\n",
            "B( 2) =                                            1/6\n",
            "B( 4) =                                           -1/30\n",
            "B( 6) =                                            1/42\n",
            "B( 8) =                                           -1/30\n",
            "B(10) =                                            5/66\n",
            "B(12) =                                         -691/2730\n",
            "B(14) =                                            7/6\n",
            "B(16) =                                        -3617/510\n",
            "B(18) =                                        43867/798\n",
            "B(20) =                                      -174611/330\n",
            "B(22) =                                       854513/138\n",
            "B(24) =                                   -236364091/2730\n",
            "B(26) =                                      8553103/6\n",
            "B(28) =                                 -23749461029/870\n",
            "B(30) =                                8615841276005/14322\n",
            "B(32) =                               -7709321041217/510\n",
            "B(34) =                                2577687858367/6\n",
            "B(36) =                        -26315271553053477373/1919190\n",
            "B(38) =                             2929993913841559/6\n",
            "B(40) =                       -261082718496449122051/13530\n",
            "B(42) =                       1520097643918070802691/1806\n",
            "B(44) =                     -27833269579301024235023/690\n",
            "B(46) =                     596451111593912163277961/282\n",
            "B(48) =                -5609403368997817686249127547/46410\n",
            "B(50) =                  495057205241079648212477525/66\n",
            "B(52) =              -801165718135489957347924991853/1590\n",
            "B(54) =             29149963634884862421418123812691/798\n",
            "B(56) =          -2479392929313226753685415739663229/870\n",
            "B(58) =          84483613348880041862046775994036021/354\n",
            "B(60) = -1215233140483755572040304994079820246041491/56786730\n"
          ]
        }
      ]
    },
    {
      "cell_type": "markdown",
      "source": [
        "* Adivina un número entre 1 y 100:"
      ],
      "metadata": {
        "id": "zSmoEYA7OP4_"
      }
    },
    {
      "cell_type": "code",
      "source": [
        "from numpy.random import randint \n",
        "numero_maquina = randint(100)+1\n",
        "intentos = 1\n",
        "while intentos<20:\n",
        "    n = int(input(\"Ingrese un número:\"))\n",
        "    if n == numero_maquina:\n",
        "        print(\"Ud. ha adivinado el número!!!\")\n",
        "        print(\"Números de intentos = \",intentos)\n",
        "        break\n",
        "    if n>numero_maquina:\n",
        "        print(\"El número debe ser más pequeño\")\n",
        "    else:\n",
        "        print(\"El número debe ser más grande\")\n",
        "    intentos +=1\n",
        "else:\n",
        "    print(\"Ud. ha excedido el número máximo de intentos\")"
      ],
      "metadata": {
        "colab": {
          "base_uri": "https://localhost:8080/"
        },
        "id": "3sVDQtI3OSfG",
        "outputId": "d37da5ae-1977-4dc6-cecb-af15084d5b66"
      },
      "execution_count": 52,
      "outputs": [
        {
          "output_type": "stream",
          "name": "stdout",
          "text": [
            "Ingrese un número:17\n",
            "El número debe ser más grande\n",
            "Ingrese un número:25\n",
            "El número debe ser más grande\n",
            "Ingrese un número:69\n",
            "El número debe ser más pequeño\n",
            "Ingrese un número:67\n",
            "El número debe ser más pequeño\n",
            "Ingrese un número:53\n",
            "El número debe ser más pequeño\n",
            "Ingrese un número:47\n",
            "El número debe ser más pequeño\n",
            "Ingrese un número:41\n",
            "El número debe ser más grande\n",
            "Ingrese un número:43\n",
            "Ud. ha adivinado el número!!!\n",
            "Números de intentos =  8\n"
          ]
        }
      ]
    },
    {
      "cell_type": "markdown",
      "source": [
        "* Juego del 21:"
      ],
      "metadata": {
        "id": "pZ0beAeUO77x"
      }
    },
    {
      "cell_type": "code",
      "source": [
        "carta = randint(13)+1\n",
        "print(\"Su carta es: \", carta)\n",
        "Suma_carta = carta\n",
        "print(\"La suma es: \", Suma_carta)\n",
        "c = input(\"Quiere otra carta (S/N)\")\n",
        "while c=='S' or c==\"s\":\n",
        "  carta = randint(13)+1\n",
        "  print(\"Su carta es: \", carta)\n",
        "  Suma_carta += carta\n",
        "  print(\"La suma es: \", Suma_carta)\n",
        "  if Suma_carta>21:\n",
        "    print(\"Perdió\")\n",
        "    break\n",
        "  if Suma_carta==21:\n",
        "    print(\"Ganó\")\n",
        "    break\n",
        "  c = input(\"Quiere otra carta (S/N)\")\n",
        "print(\"Fin\")"
      ],
      "metadata": {
        "colab": {
          "base_uri": "https://localhost:8080/"
        },
        "id": "TQNx2KlcO-h9",
        "outputId": "144d8789-2e4b-4d5a-b923-d68b09114fcc"
      },
      "execution_count": 54,
      "outputs": [
        {
          "output_type": "stream",
          "name": "stdout",
          "text": [
            "Su carta es:  5\n",
            "La suma es:  5\n",
            "Quiere otra carta (S/N)s\n",
            "Su carta es:  4\n",
            "La suma es:  9\n",
            "Quiere otra carta (S/N)s\n",
            "Su carta es:  8\n",
            "La suma es:  17\n",
            "Quiere otra carta (S/N)n\n",
            "Fin\n"
          ]
        }
      ]
    },
    {
      "cell_type": "markdown",
      "source": [
        "## 6. Gráficos"
      ],
      "metadata": {
        "id": "eRA6fJOzPXCX"
      }
    },
    {
      "cell_type": "markdown",
      "source": [
        "* Ecuación del amor:"
      ],
      "metadata": {
        "id": "wYvTvJBEPZny"
      }
    },
    {
      "cell_type": "code",
      "source": [
        "import matplotlib.pyplot as plt\n",
        "import numpy as np\n",
        "%matplotlib inline\n",
        "\n",
        "t = np.arange(0,2*np.pi, 0.1)\n",
        "x = 16*np.sin(t)**3\n",
        "y = 13*np.cos(t)-5*np.cos(2*t)-2*np.cos(3*t)-np.cos(4*t)\n",
        "plt.plot(x,y)"
      ],
      "metadata": {
        "colab": {
          "base_uri": "https://localhost:8080/",
          "height": 282
        },
        "id": "s7-xwrdTPcJY",
        "outputId": "0e6112a6-c4ca-4763-b44a-50fcde98d7e6"
      },
      "execution_count": 55,
      "outputs": [
        {
          "output_type": "execute_result",
          "data": {
            "text/plain": [
              "[<matplotlib.lines.Line2D at 0x7f550d734790>]"
            ]
          },
          "metadata": {},
          "execution_count": 55
        },
        {
          "output_type": "display_data",
          "data": {
            "text/plain": [
              "<Figure size 432x288 with 1 Axes>"
            ],
            "image/png": "[encoded data removed]"
          },
          "metadata": {
            "needs_background": "light"
          }
        }
      ]
    },
    {
      "cell_type": "markdown",
      "source": [
        "* Círculo de radio 3 en coord. polares:"
      ],
      "metadata": {
        "id": "74DuTLvVPwev"
      }
    },
    {
      "cell_type": "code",
      "source": [
        "t = np.arange(0,2*np.pi+0.1, 0.1)\n",
        "r = 3\n",
        "x = r*np.cos(t)\n",
        "y = r*np.sin(t)\n",
        "ax = plt.plot(x,y,'*')\n",
        "plt.gca().set_aspect('equal')"
      ],
      "metadata": {
        "colab": {
          "base_uri": "https://localhost:8080/",
          "height": 265
        },
        "id": "dolXHReqPy_Y",
        "outputId": "56b63679-0d12-4a87-a319-54d3bde4a33b"
      },
      "execution_count": 58,
      "outputs": [
        {
          "output_type": "display_data",
          "data": {
            "text/plain": [
              "<Figure size 432x288 with 1 Axes>"
            ],
            "image/png": "[encoded data removed]"
          },
          "metadata": {
            "needs_background": "light"
          }
        }
      ]
    }
  ]
}