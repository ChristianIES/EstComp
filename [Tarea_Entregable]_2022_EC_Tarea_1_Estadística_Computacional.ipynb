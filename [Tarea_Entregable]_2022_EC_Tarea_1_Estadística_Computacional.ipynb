{
  "cells": [
    {
      "cell_type": "markdown",
      "metadata": {
        "id": "view-in-github",
        "colab_type": "text"
      },
      "source": [
        "<a href=\"https://colab.research.google.com/github/ChristianIES/EstComp/blob/main/%5BTarea_Entregable%5D_2022_EC_Tarea_1_Estad%C3%ADstica_Computacional.ipynb\" target=\"_parent\"><img src=\"https://colab.research.google.com/assets/colab-badge.svg\" alt=\"Open In Colab\"/></a>"
      ]
    },
    {
      "cell_type": "markdown",
      "metadata": {
        "id": "AHwh8pEKeYYz"
      },
      "source": [
        "# Tarea 1 - Estadística Computacional\n",
        "\n",
        "- Nombre: Christian Araya M.\n",
        "- Nombre: Rodrigo Barrera G.\n",
        "\n",
        "Curso: Estadística Computacional\n",
        "\n",
        "Doctorado en Estadística\n",
        "\n",
        "\n",
        "Responda las preguntas que se indican colocando el código requerido. El Notebook se entrega totalmente ejecutado."
      ]
    },
    {
      "cell_type": "markdown",
      "metadata": {
        "id": "hJSM7VpweYZM"
      },
      "source": [
        "**Ingrese los Toolbox que se utilizarán en este Jupyter**"
      ]
    },
    {
      "cell_type": "code",
      "execution_count": 10,
      "metadata": {
        "id": "PtEZppw_eYZN"
      },
      "outputs": [],
      "source": [
        "from scipy import stats     #para corroborar cálculo de correlación de Spearman\n",
        "import numpy as np          #para construir matriz de rezagos     "
      ]
    },
    {
      "cell_type": "markdown",
      "metadata": {
        "id": "5KkNh4CReYZP"
      },
      "source": [
        "## 1. Indicadores estadísticos.\n",
        "\n",
        "En estadística, en muchas ocasiones se requiere implementar indicadores o estadísticos. En esta pregunta deberá implementar los siguientes indicadores:"
      ]
    },
    {
      "cell_type": "markdown",
      "metadata": {
        "id": "whUAjuMCeYah"
      },
      "source": [
        "1. **Symmetric mean absolute percentage error (SMAPE or sMAPE)**: es una medida de precisión basada en errores porcentuales (o relativos).\n",
        "\n",
        "$$sMAPE = \\frac{100\\%}{n}\\sum_{t=1}^n \\frac{|F_t-A_t|}{(|A_t|+|F_t|)/2}$$\n",
        "\n",
        "donde $A_t$ es el valor real y $F_t$ es el valor de pronóstico.\n",
        "\n",
        "Implementar la Función sMAPE:"
      ]
    },
    {
      "cell_type": "code",
      "execution_count": null,
      "metadata": {
        "id": "MZPv0VUZeYai"
      },
      "outputs": [],
      "source": [
        "def sMAPE(datos, predicciones):\n",
        "  if len(datos)!=len(predicciones):\n",
        "    print(\"Alerta, no se puede proceder.\")\n",
        "  else:\n",
        "    n=len(datos)\n",
        "    s=0\n",
        "    for i in range(0,n):\n",
        "      s=s+abs(predicciones[i]-datos[i])/(0.5*(abs(predicciones[i])+abs(datos[i])))\n",
        "      #den=den+0.5*(abs(predicciones[i]+datos[i]))\n",
        "  resultado=(100/n)*s\n",
        "  return resultado\n"
      ]
    },
    {
      "cell_type": "markdown",
      "metadata": {
        "id": "1pnM7aC4eYaj"
      },
      "source": [
        "Aplicar la función sMAPE de las siguientes listas:\n",
        "\n",
        "Dato = { 1.5 ,  2.89, -0.08, -2.93, -1.35,  2.26,  2.47, -1.05, -2.98,\n",
        "       -0.41,  2.78,  1.78, -1.91, -2.71,  0.58,  3.  ,  0.9 , -2.56,\n",
        "       -2.15,  1.5 }\n",
        "       \n",
        "Predicción = { 3.58,  4.3 ,  0.5 , -3.11, -1.94,  3.71,  1.56, -1.55, -2.77,\n",
        "       -0.51,  2.93,  2.14, -1.76, -1.96, -0.51,  2.96, -0.34, -3.33,\n",
        "       -3.49,  1.5}\n"
      ]
    },
    {
      "cell_type": "code",
      "execution_count": null,
      "metadata": {
        "id": "Z1CM8opKeYal",
        "colab": {
          "base_uri": "https://localhost:8080/"
        },
        "outputId": "3b407211-4da2-4ae2-a3ea-bcc37cdac33d"
      },
      "outputs": [
        {
          "output_type": "stream",
          "name": "stdout",
          "text": [
            "El valor de SMAPE corresponde a:  53.16 %\n"
          ]
        }
      ],
      "source": [
        "Dato = [1.5 , 2.89, -0.08, -2.93, -1.35, 2.26, 2.47, -1.05, -2.98, -0.41, 2.78, 1.78, -1.91, -2.71, 0.58, 3. , 0.9 , -2.56, -2.15, 1.5 ]\n",
        "Prediccion = [ 3.58, 4.3 , 0.5 , -3.11, -1.94, 3.71, 1.56, -1.55, -2.77, -0.51, 2.93, 2.14, -1.76, -1.96, -0.51, 2.96, -0.34, -3.33, -3.49, 1.5]\n",
        "x=sMAPE(Dato,Prediccion)\n",
        "print(\"El valor de SMAPE corresponde a: \",round(x,2),\"%\")"
      ]
    },
    {
      "cell_type": "markdown",
      "metadata": {
        "id": "Cp6TpBnheYan"
      },
      "source": [
        "2. **Coeficiente de correlación de Spearman ($\\rho$)**: es una medida de la correlación (la asociación o interdependencia) entre dos variables aleatorias (tanto continuas como discretas). Para calcular $\\rho$, los datos son ordenados y reemplazados por su respectivo orden.\n",
        "\n",
        "El estadístico está dado por:\n",
        "\n",
        "$$\\rho = 1 - \\frac{6\\sum_i D_{(i)}^2}{N(N^2-1)}$$\n",
        "\n",
        "donde $D_{(i)}$ es la diferencia entre los correspondientes estadísticos de orden de $x$ e $y$. $N$ es el número de parejas de datos.\n"
      ]
    },
    {
      "cell_type": "code",
      "execution_count": null,
      "metadata": {
        "id": "yvkTB97geYau"
      },
      "outputs": [],
      "source": [
        "#Para ordenar con método burbuja:\n",
        "\n",
        "def OrdenarBurbuja(set1):\n",
        "  flag = True\n",
        "  n=len(set1)\n",
        "  while flag:\n",
        "      flag=False\n",
        "      for i in range(0,n-1):\n",
        "        if set1[i]>set1[i+1]:\n",
        "          aux=set1[i]\n",
        "          set1[i]=set1[i+1]\n",
        "          set1[i+1]=aux\n",
        "          flag=True\n",
        "          #print(set1)\n",
        "  return set1\n",
        "\n"
      ]
    },
    {
      "cell_type": "code",
      "source": [
        "#Para encontrar los estadísticos de orden (no utilizada en la versión final):\n",
        "\n",
        "def EstOrden(datos):\n",
        "  estadisticos=[]\n",
        "  ordenado=datos.copy()\n",
        "  ordenado=ordenarBurbuja(ordenado)\n",
        "  indice=1\n",
        "  for i in datos:\n",
        "    for j in range(0,len(ordenado)-1):\n",
        "      if i==ordenado[j]:\n",
        "        estadisticos.append(indice)\n",
        "        indice+=1\n",
        "  return estadisticos\n"
      ],
      "metadata": {
        "id": "KILZtsB_qWE8"
      },
      "execution_count": null,
      "outputs": []
    },
    {
      "cell_type": "code",
      "source": [
        "  #Para promediar los rangos de los datos repetidos:\n",
        "  \n",
        "  def Correccion(datos,datosordenados):\n",
        "    result=[0]*len(datos)\n",
        "    for j in range(0, len(datos)):\n",
        "      contador=0\n",
        "      sum=0\n",
        "      for k in range(0, len(datosordenados)):\n",
        "        if datos[j]==datosordenados[k]:\n",
        "          sum=sum+(k+1)\n",
        "          contador+=1\n",
        "      result[j]=(sum/contador)\n",
        "    return result\n"
      ],
      "metadata": {
        "id": "MU76wc1hs7N-"
      },
      "execution_count": null,
      "outputs": []
    },
    {
      "cell_type": "code",
      "source": [
        "#Para calcular la correlación de Spearman:\n",
        "\n",
        "def Spearman(dato1,dato2):\n",
        "  dato1O=OrdenarBurbuja(dato1)\n",
        "  dato2O=OrdenarBurbuja(dato2)\n",
        "  dic1=dict(zip(dato1O, Correccion(dato1,dato1O)))\n",
        "  dic2=dict(zip(dato2O, Correccion(dato2,dato2O)))\n",
        "  print(dic1)\n",
        "  print(dic2)\n",
        "  if len(dato1)!=len(dato2):\n",
        "    print(\"Se requieren sets de datos del mismo tamaño.\")\n",
        "  else:\n",
        "    n=len(dato1)\n",
        "    suma=0\n",
        "    for i in range(0,n):\n",
        "      suma=suma+(dic1[dato1[i]]-dic2[dato2[i]])**2\n",
        "    coef=1-6*(suma)/(n*(n**2-1))\n",
        "  return round(coef,3)"
      ],
      "metadata": {
        "id": "k8I699sTqXSG"
      },
      "execution_count": null,
      "outputs": []
    },
    {
      "cell_type": "markdown",
      "metadata": {
        "id": "EIcwkqHCeYax"
      },
      "source": [
        "Calcular el coeficiente de correlación de Spearman para los siguientes datos:\n",
        "    \n",
        "Dato = { 1.5 ,  2.89, -0.08, -2.93, -1.35,  2.26,  2.47, -1.05, -2.98,\n",
        "       -0.41,  2.78,  1.78, -1.91, -2.71,  0.58,  3.  ,  0.9 , -2.56,\n",
        "       -2.15,  1.5 }\n",
        "       \n",
        "Predicción = { 3.58,  4.3 ,  0.5 , -3.11, -1.94,  3.71,  1.56, -1.55, -2.77,\n",
        "       -0.51,  2.93,  2.14, -1.76, -1.96, -0.51,  2.96, -0.34, -3.33,\n",
        "       -3.49,  1.5}"
      ]
    },
    {
      "cell_type": "code",
      "execution_count": null,
      "metadata": {
        "id": "ENTRX3iTeYay",
        "colab": {
          "base_uri": "https://localhost:8080/"
        },
        "outputId": "07b45153-38f8-4447-b823-27b1acee1095"
      },
      "outputs": [
        {
          "output_type": "stream",
          "name": "stdout",
          "text": [
            "{-2.98: 1.0, -2.93: 2.0, -2.71: 3.0, -2.56: 4.0, -2.15: 5.0, -1.91: 6.0, -1.35: 7.0, -1.05: 8.0, -0.41: 9.0, -0.08: 10.0, 0.58: 11.0, 0.9: 12.0, 1.5: 13.5, 1.78: 15.0, 2.26: 16.0, 2.47: 17.0, 2.78: 18.0, 2.89: 19.0, 3.0: 20.0}\n",
            "{-3.49: 1.0, -3.33: 2.0, -3.11: 3.0, -2.77: 4.0, -1.96: 5.0, -1.94: 6.0, -1.76: 7.0, -1.55: 8.0, -0.51: 9.5, -0.34: 11.0, 0.5: 12.0, 1.5: 13.0, 1.56: 14.0, 2.14: 15.0, 2.93: 16.0, 2.96: 17.0, 3.58: 18.0, 3.71: 19.0, 4.3: 20.0}\n",
            "La correlación de Spearman es (redondeada a 3 decimales):  0.999\n"
          ]
        }
      ],
      "source": [
        "Dato=[1.5,2.89,-0.08,-2.93,-1.35,2.26,2.47,-1.05,-2.98,-0.41,2.78,1.78,-1.91,-2.71,0.58,3.,0.9,-2.56,-2.15,1.5]\n",
        "Prediccion=[3.58,4.3,0.5,-3.11,-1.94,3.71,1.56,-1.55,-2.77,-0.51,2.93,2.14,-1.76,-1.96,-0.51,2.96,-0.34,-3.33,-3.49,1.5]\n",
        "x=Spearman(Dato,Prediccion)\n",
        "print(\"La correlación de Spearman es (redondeada a 3 decimales): \", x)\n",
        "\n",
        "\n",
        "#----------------------\n",
        "#t=OrdenarBurbuja(Dato)\n",
        "#print(t)\n",
        "#e=EstOrden(t)\n",
        "#print(e)\n",
        "#Correccion(Dato,t)\n"
      ]
    },
    {
      "cell_type": "code",
      "source": [
        "#Para corroborar el cálculo anterior:\n",
        "stats.spearmanr(Dato,Prediccion)"
      ],
      "metadata": {
        "colab": {
          "base_uri": "https://localhost:8080/"
        },
        "id": "zTFvBGO6GoRx",
        "outputId": "1bc561dd-340e-452b-b8d6-11a8f0e2b5bd"
      },
      "execution_count": null,
      "outputs": [
        {
          "output_type": "execute_result",
          "data": {
            "text/plain": [
              "SpearmanrResult(correlation=0.9992475545522947, pvalue=7.322233287690928e-27)"
            ]
          },
          "metadata": {},
          "execution_count": 15
        }
      ]
    },
    {
      "cell_type": "markdown",
      "metadata": {
        "id": "isWmCc2ReYaz"
      },
      "source": [
        "3. **Coeficiente de Gini:** es una medida de la desigualdad. El coeficiente de Gini es un número entre 0 y 1, en donde 0 se corresponde con la perfecta igualdad (todos tienen los mismos ingresos) y donde el valor 1 se corresponde con la perfecta desigualdad. Para obtener el coeficiente de Gini, en general se utiliza la fórmila de Brown:\n",
        "\n",
        "$$G = \\left|1 - \\sum_{k=1}^n (X_{k+1}-X_k)(Y_{k+1}+Y_k)\\right|$$\n",
        "\n",
        "donde $X$ e $Y$ corresponden a la proporción acumulada de las variables.\n",
        "\n",
        "Implementar la función que calcule el coeficiente de Gini.\n"
      ]
    },
    {
      "cell_type": "code",
      "execution_count": 1,
      "metadata": {
        "id": "xPQa6UFIeYaz"
      },
      "outputs": [],
      "source": [
        "def GiniIndex(X,Y):\n",
        " suma = []\n",
        " for j in range(len(X)-1):\n",
        "   suma.append((X[j+1]-X[j])*(Y[j+1]+Y[j]))\n",
        " return(abs(1-sum(suma)))\n"
      ]
    },
    {
      "cell_type": "markdown",
      "metadata": {
        "id": "7YQnfOjyeYa0"
      },
      "source": [
        "Obtener el coeficiente de Gini para las siguientes dos proporciones:\n",
        "\n",
        "| Variables Acumuladas| Clase 1 | Clase 2 | Clase 3 | Clase 4 | Clase 5 |\n",
        "| --- | --- | --- | --- | --- | --- |\n",
        "| X | 0.09 | 0.33 | 0.45 | 0.78 | 1 |\n",
        "| Y | 0.17 | 0.48 | 0.62 | 0.86 | 1 |\n",
        "\n"
      ]
    },
    {
      "cell_type": "code",
      "execution_count": 3,
      "metadata": {
        "id": "OBGzGDcteYa3",
        "colab": {
          "base_uri": "https://localhost:8080/"
        },
        "outputId": "bf2834a2-d593-4f57-f66f-5c1db1dbb3c2"
      },
      "outputs": [
        {
          "output_type": "stream",
          "name": "stdout",
          "text": [
            "El coeficiente de Gini corresponde a:  0.1856\n"
          ]
        }
      ],
      "source": [
        "X=[0.09,0.33,0.45,0.78,1]\n",
        "Y=[0.17,0.48,0.62,0.86,1]\n",
        "print(\"El coeficiente de Gini corresponde a: \", GiniIndex(X,Y))\n"
      ]
    },
    {
      "cell_type": "markdown",
      "metadata": {
        "id": "ZbsjvoX9eYa4"
      },
      "source": [
        "## 2. Algoritmos"
      ]
    },
    {
      "cell_type": "markdown",
      "metadata": {
        "id": "1RC26f0LeYa6"
      },
      "source": [
        "1. Dado dos conjuntos de datos ordenados y de tamaños diferentes, realizar una función que mezcle ambos conjunto y genere un nuevo conjunto con todos los datos ordenados."
      ]
    },
    {
      "cell_type": "markdown",
      "source": [
        "* **Versión 1:** en esta versión, si existen elementos repetidos, se consideran sólo 1 vez en la unión."
      ],
      "metadata": {
        "id": "XP6r1pW19y9-"
      }
    },
    {
      "cell_type": "code",
      "execution_count": null,
      "metadata": {
        "id": "ACzscmuOeYa_"
      },
      "outputs": [],
      "source": [
        "def mezclarordenar(set1,set2):\n",
        "  union=set1.union(set2)\n",
        "  union=list(union)\n",
        "  #print(union)\n",
        "  flag = True\n",
        "  while flag:\n",
        "      flag = False\n",
        "      for i in range(0,len(union)-1):\n",
        "        if union[i]>=union[i+1]:\n",
        "          aux=union[i]\n",
        "          union[i]=union[i+1]\n",
        "          union[i+1]=aux\n",
        "          flag = True\n",
        "          #print(union)\n",
        "  return set(union)\n"
      ]
    },
    {
      "cell_type": "markdown",
      "metadata": {
        "id": "6xUdjLZ9eYbA"
      },
      "source": [
        "Aplicar el algoritmo para mezclar y ordenar los siguientes conjuntos:\n",
        "\n",
        "$$D_1 = \\{5, 7, 15, 23, 45, 72, 83\\}$$\n",
        "\n",
        "$$D_2= \\{1, 2, 6, 29, 37, 75, 100, 110, 115, 117\\}$$"
      ]
    },
    {
      "cell_type": "code",
      "execution_count": null,
      "metadata": {
        "id": "GX0SrIj-eYbH",
        "colab": {
          "base_uri": "https://localhost:8080/"
        },
        "outputId": "0420134c-4ca8-4ab2-d6f2-c77c547c0675"
      },
      "outputs": [
        {
          "output_type": "execute_result",
          "data": {
            "text/plain": [
              "{1, 2, 5, 6, 7, 15, 23, 29, 37, 45, 72, 75, 83, 100, 110, 115, 117}"
            ]
          },
          "metadata": {},
          "execution_count": 29
        }
      ],
      "source": [
        "D1={5,7,15,23,45,72,83} \n",
        "D2={1,2,6,29,37,75,100,110,115,117} \n",
        "mezclarordenar(D1,D2)"
      ]
    },
    {
      "cell_type": "markdown",
      "source": [
        "* **Versión 2:** en esta versión, si existen elementos repetidos, estos aparecerán tantas veces como existan en el resultado de la unión."
      ],
      "metadata": {
        "id": "bsDJRt5P9-vf"
      }
    },
    {
      "cell_type": "code",
      "source": [
        "def mezclarordenar2(set1,set2):\n",
        "  l1=list(set1)\n",
        "  l2=list(set2)\n",
        "  n1=len(set1)\n",
        "  n2=len(set2)\n",
        "  union=l1+l2\n",
        "  flag = True\n",
        "  while flag:\n",
        "      flag = False\n",
        "      for i in range(0,len(union)-1):\n",
        "        if union[i]>union[i+1]:\n",
        "          aux=union[i]\n",
        "          union[i]=union[i+1]\n",
        "          union[i+1]=aux\n",
        "          flag = True\n",
        "          #print(union)\n",
        "  return (union)"
      ],
      "metadata": {
        "id": "FOUpUYIK-RhL"
      },
      "execution_count": null,
      "outputs": []
    },
    {
      "cell_type": "code",
      "source": [
        "#conjunto de prueba original:\n",
        "\n",
        "D1={5,7,15,23,45,72,83} \n",
        "D2={1,2,6,29,37,75,100,110,115,117} \n",
        "mezclarordenar2(D1,D2)\n",
        "\n"
      ],
      "metadata": {
        "colab": {
          "base_uri": "https://localhost:8080/"
        },
        "id": "fsVTd0Y--8IV",
        "outputId": "6eee931a-e04e-4818-a27d-2ce715ee1c83"
      },
      "execution_count": null,
      "outputs": [
        {
          "output_type": "execute_result",
          "data": {
            "text/plain": [
              "[1, 2, 5, 6, 7, 15, 23, 29, 37, 45, 72, 75, 83, 100, 110, 115, 117]"
            ]
          },
          "metadata": {},
          "execution_count": 18
        }
      ]
    },
    {
      "cell_type": "code",
      "source": [
        "#si se repitiera algún elemento:\n",
        "\n",
        "D1={5,7,15,23,45,72,83,110} \n",
        "D2={1,2,6,29,37,75,100,110,115,117} \n",
        "mezclarordenar2(D1,D2)"
      ],
      "metadata": {
        "colab": {
          "base_uri": "https://localhost:8080/"
        },
        "id": "kUOGEVFTDGO6",
        "outputId": "a640a2ba-ad30-44bb-a133-f0befbf0b22a"
      },
      "execution_count": null,
      "outputs": [
        {
          "output_type": "execute_result",
          "data": {
            "text/plain": [
              "[1, 2, 5, 6, 7, 15, 23, 29, 37, 45, 72, 75, 83, 100, 110, 110, 115, 117]"
            ]
          },
          "metadata": {},
          "execution_count": 19
        }
      ]
    },
    {
      "cell_type": "markdown",
      "metadata": {
        "id": "9ApSqhGteYbH"
      },
      "source": [
        "2. La equivalencia de los símbolos básicos de los números romanos es la siguiente:\n",
        "\n",
        "|Número Romano | I | V | X | L | C | D | M |\n",
        "| --- | --- | --- | --- | --- | --- | --- | --- |\n",
        "|Número decimal| 1 | 5 | 10 | 50 | 100 | 500 | 1000 |\n",
        "\n",
        "Los enteros romanos se escriben de acuerdo a las siguientes reglas:\n",
        "\n",
        "- Si una letra está seguida inmediatamente por una de igual o menor valor, su valor se suma al total acumulado. Así, XX = 20, XV = 15 y VI = 6.\n",
        "- Si una letra está seguida inmediatamente por una de mayor valor, su valor se sustrae del total acumulado. Así, IV = 4, XL = 40 y CM = 900.\n",
        "\n",
        "Escriba la función que reciba un string con un número en notación romana, y entregue el entero equivalente:"
      ]
    },
    {
      "cell_type": "code",
      "execution_count": null,
      "metadata": {
        "id": "PQ5udqrkeYbJ"
      },
      "outputs": [],
      "source": [
        "def romanToInteger(s):\n",
        "    d = {'I':1,'V':5,'X':10,'L':50,'C':100,'D':500,'M':1000}\n",
        "    entero = 0\n",
        "    \n",
        "    for i in range(len(s)):\n",
        "        if i+1 != len(s) and d[s[i]]<d[s[i+1]]:\n",
        "            entero = entero - d[s[i]]\n",
        "            \n",
        "        else:\n",
        "            entero = entero + d[s[i]]\n",
        "    return entero\n",
        "\n",
        "\n"
      ]
    },
    {
      "cell_type": "code",
      "source": [
        "print('El número ingresado es',romanToInteger(\"MCMXCIX\"))"
      ],
      "metadata": {
        "colab": {
          "base_uri": "https://localhost:8080/"
        },
        "id": "Cnh5TaHtDfgk",
        "outputId": "262a1257-0610-403b-e1d7-bf0fbe5d0cd9"
      },
      "execution_count": null,
      "outputs": [
        {
          "output_type": "stream",
          "name": "stdout",
          "text": [
            "El número ingresado es 1999\n"
          ]
        }
      ]
    },
    {
      "cell_type": "markdown",
      "metadata": {
        "id": "8O350tvEeYbJ"
      },
      "source": [
        "## 3. Algoritmos en Series de Tiempo\n",
        "\n",
        "Una serie de tiempo es una secuencia de valores numéricos obtenidos a intervalos de tiempos regulares.\n",
        "\n",
        "$$X=\\{x_1, x_2,....., x_t, ..., x_T\\}$$"
      ]
    },
    {
      "cell_type": "code",
      "execution_count": null,
      "metadata": {
        "id": "cIIa868yeYbK"
      },
      "outputs": [],
      "source": [
        ""
      ]
    },
    {
      "cell_type": "markdown",
      "metadata": {
        "id": "_0S7HkIqeYbM"
      },
      "source": [
        "1. Las medias móviles con retardo $p$ de una serie de tiempo son las secuencia de todos los promedios de $p$ valores consecutivos de la serie. Realizar una función que retorne el arreglo de las medias móviles con retardo $p$ de la serie."
      ]
    },
    {
      "cell_type": "code",
      "execution_count": 4,
      "metadata": {
        "id": "xYXaftAqeYbN"
      },
      "outputs": [],
      "source": [
        "def m_movil(lista,retardo):\n",
        " i = 0\n",
        " mm = []\n",
        " while i < len(lista) - retardo + 1:\n",
        "     aux = lista[i : i + retardo]\n",
        "     aux_average = sum(aux) / retardo\n",
        "     mm.append(round(aux_average,2))\n",
        "     i = i + 1\n",
        " return(mm)\n"
      ]
    },
    {
      "cell_type": "markdown",
      "metadata": {
        "id": "iptJ5capeYbQ"
      },
      "source": [
        "Aplicar la función a los siguientes datos:\n",
        "\n",
        "Dato = { 1.5 ,  2.89, -0.08, -2.93, -1.35,  2.26,  2.47, -1.05, -2.98,\n",
        "       -0.41,  2.78,  1.78, -1.91, -2.71,  0.58,  3.  ,  0.9 , -2.56,\n",
        "       -2.15,  1.5 }"
      ]
    },
    {
      "cell_type": "code",
      "execution_count": 5,
      "metadata": {
        "id": "533z4WbSeYbR",
        "colab": {
          "base_uri": "https://localhost:8080/"
        },
        "outputId": "e6dc0af4-e032-458e-c100-11f931e585ea"
      },
      "outputs": [
        {
          "output_type": "execute_result",
          "data": {
            "text/plain": [
              "[0.46,\n",
              " -0.1,\n",
              " -0.51,\n",
              " -0.15,\n",
              " 0.44,\n",
              " 0.37,\n",
              " -0.25,\n",
              " -0.49,\n",
              " 0.02,\n",
              " 0.5,\n",
              " 0.23,\n",
              " -0.38,\n",
              " -0.42]"
            ]
          },
          "metadata": {},
          "execution_count": 5
        }
      ],
      "source": [
        "Dato = [1.5,2.89,-0.08,-2.93,-1.35,2.26,2.47,-1.05,-2.98,-0.41,2.78,1.78,-1.91,-2.71,0.58,3.,0.9,-2.56,-2.15,1.5]\n",
        "m_movil(Dato,8)"
      ]
    },
    {
      "cell_type": "markdown",
      "metadata": {
        "id": "VBG-4QCTeYbS"
      },
      "source": [
        "2. Las diferencias finitas de una serie de tiempo son la secuencia de todas las diferencias entre un valor y el anterior. Escribir una función que retorne el arreglo de las diferencias finitas de la serie."
      ]
    },
    {
      "cell_type": "code",
      "execution_count": 6,
      "metadata": {
        "id": "Zcv80bZleYbV"
      },
      "outputs": [],
      "source": [
        "def diff(Dato):\n",
        " lag = []\n",
        " for j in range(len(Dato)-1):\n",
        "  lag.append(round((Dato[j+1]-Dato[j]),2))\n",
        " return(lag)\n"
      ]
    },
    {
      "cell_type": "markdown",
      "metadata": {
        "id": "bCn1TZtfeYbY"
      },
      "source": [
        "Aplicar la función a los siguientes datos:\n",
        "\n",
        "Dato = { 1.5 ,  2.89, -0.08, -2.93, -1.35,  2.26,  2.47, -1.05, -2.98,\n",
        "       -0.41,  2.78,  1.78, -1.91, -2.71,  0.58,  3.  ,  0.9 , -2.56,\n",
        "       -2.15,  1.5 }"
      ]
    },
    {
      "cell_type": "code",
      "execution_count": 7,
      "metadata": {
        "id": "kanpWIbeeYbZ",
        "colab": {
          "base_uri": "https://localhost:8080/"
        },
        "outputId": "9d469eb1-0f08-4818-8a04-b454aa9f782d"
      },
      "outputs": [
        {
          "output_type": "execute_result",
          "data": {
            "text/plain": [
              "[1.39,\n",
              " -2.97,\n",
              " -2.85,\n",
              " 1.58,\n",
              " 3.61,\n",
              " 0.21,\n",
              " -3.52,\n",
              " -1.93,\n",
              " 2.57,\n",
              " 3.19,\n",
              " -1.0,\n",
              " -3.69,\n",
              " -0.8,\n",
              " 3.29,\n",
              " 2.42,\n",
              " -2.1,\n",
              " -3.46,\n",
              " 0.41,\n",
              " 3.65]"
            ]
          },
          "metadata": {},
          "execution_count": 7
        }
      ],
      "source": [
        "Dato = [1.5,2.89,-0.08,-2.93,-1.35,2.26,2.47,-1.05,-2.98,-0.41,2.78,1.78,-1.91,-2.71,0.58,3. ,0.9 ,-2.56,-2.15,1.5]\n",
        "diff(Dato)"
      ]
    },
    {
      "cell_type": "markdown",
      "metadata": {
        "id": "umMlatX3eYbd"
      },
      "source": [
        "3. En algunos métodos se requiere construir la matriz de rezagos de orden p. Esto es, dado la serie de tiempo:\n",
        "\n",
        "$$X=\\{x_1, x_2,....., x_t, ..., x_T\\}$$\n",
        "\n",
        "La matriz de rezagos de orden $p$ está dada por:\n",
        "\n",
        "$$M = \\left[\\begin{array}{cccccc}\n",
        "x_1 & x_2 & ... & x_p\\\\\n",
        "x_2 & x_3 & ... & x_{p+1}\\\\\n",
        "x_4 & x_5 & ... & x_{p+2}\\\\\n",
        "... & ... & ... & ...\\\\\n",
        "x_{T-p} & x_{T-p+1} & ... & x_{T-1}\\\\\n",
        "x_{T-p+1} & x_{T-p+2} & ... & x_{T}\\\\\n",
        "\\end{array}\n",
        "\\right]$$ \n",
        "\n",
        "Realizar una función que construya dicha estructura de datos."
      ]
    },
    {
      "cell_type": "code",
      "execution_count": 8,
      "metadata": {
        "id": "Gipibg-meYbl"
      },
      "outputs": [],
      "source": [
        "#Arg1: lista\n",
        "#Arg2: p\n",
        "def MRez(lista,l):\n",
        " for i in range(len(lista)-(l-1)):\n",
        "  if i == 0:\n",
        "   M=np.array(lista[i:i+l])\n",
        "  else:\n",
        "   M=np.vstack([M,lista[i:i+l]])\n",
        " return(M)\n"
      ]
    },
    {
      "cell_type": "markdown",
      "metadata": {
        "id": "JmJUX3XBeYbo"
      },
      "source": [
        "Aplicar la función a los siguientes datos:\n",
        "\n",
        "Dato = { 1.5 ,  2.89, -0.08, -2.93, -1.35,  2.26,  2.47, -1.05, -2.98,\n",
        "       -0.41,  2.78,  1.78, -1.91, -2.71,  0.58,  3.  ,  0.9 , -2.56,\n",
        "       -2.15,  1.5 }"
      ]
    },
    {
      "cell_type": "code",
      "execution_count": 11,
      "metadata": {
        "id": "olK7zqfMeYbp",
        "colab": {
          "base_uri": "https://localhost:8080/"
        },
        "outputId": "3e2e3d51-9aa0-431d-9225-f9f583ec25c4"
      },
      "outputs": [
        {
          "output_type": "execute_result",
          "data": {
            "text/plain": [
              "array([[ 1.5 ,  2.89, -0.08, -2.93],\n",
              "       [ 2.89, -0.08, -2.93, -1.35],\n",
              "       [-0.08, -2.93, -1.35,  2.26],\n",
              "       [-2.93, -1.35,  2.26,  2.47],\n",
              "       [-1.35,  2.26,  2.47, -1.05],\n",
              "       [ 2.26,  2.47, -1.05, -2.98],\n",
              "       [ 2.47, -1.05, -2.98, -0.41],\n",
              "       [-1.05, -2.98, -0.41,  2.78],\n",
              "       [-2.98, -0.41,  2.78,  1.78],\n",
              "       [-0.41,  2.78,  1.78, -1.91],\n",
              "       [ 2.78,  1.78, -1.91, -2.71],\n",
              "       [ 1.78, -1.91, -2.71,  0.58],\n",
              "       [-1.91, -2.71,  0.58,  3.  ],\n",
              "       [-2.71,  0.58,  3.  ,  0.9 ],\n",
              "       [ 0.58,  3.  ,  0.9 , -2.56],\n",
              "       [ 3.  ,  0.9 , -2.56, -2.15],\n",
              "       [ 0.9 , -2.56, -2.15,  1.5 ]])"
            ]
          },
          "metadata": {},
          "execution_count": 11
        }
      ],
      "source": [
        "MRez(Dato,4)"
      ]
    }
  ],
  "metadata": {
    "kernelspec": {
      "display_name": "Python 3",
      "language": "python",
      "name": "python3"
    },
    "language_info": {
      "codemirror_mode": {
        "name": "ipython",
        "version": 3
      },
      "file_extension": ".py",
      "mimetype": "text/x-python",
      "name": "python",
      "nbconvert_exporter": "python",
      "pygments_lexer": "ipython3",
      "version": "3.8.5"
    },
    "colab": {
      "name": "[Tarea Entregable] 2022 - EC - Tarea 1 - Estadística Computacional.ipynb",
      "provenance": [],
      "collapsed_sections": [],
      "include_colab_link": true
    }
  },
  "nbformat": 4,
  "nbformat_minor": 0
}