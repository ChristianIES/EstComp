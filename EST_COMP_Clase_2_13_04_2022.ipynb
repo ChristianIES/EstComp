{
  "nbformat": 4,
  "nbformat_minor": 0,
  "metadata": {
    "colab": {
      "name": "EST COMP - Clase 2 - 13-04-2022.ipynb",
      "provenance": [],
      "collapsed_sections": [],
      "include_colab_link": true
    },
    "kernelspec": {
      "name": "python3",
      "display_name": "Python 3"
    },
    "language_info": {
      "name": "python"
    }
  },
  "cells": [
    {
      "cell_type": "markdown",
      "metadata": {
        "id": "view-in-github",
        "colab_type": "text"
      },
      "source": [
        "<a href=\"https://colab.research.google.com/github/ChristianIES/EstComp/blob/main/EST_COMP_Clase_2_13_04_2022.ipynb\" target=\"_parent\"><img src=\"https://colab.research.google.com/assets/colab-badge.svg\" alt=\"Open In Colab\"/></a>"
      ]
    },
    {
      "cell_type": "markdown",
      "source": [
        "# Clase 2 - Algoritmos (Estadística Computacional, Doctorado en Estadística)\n",
        "\n",
        "Estadística Computacional\n",
        "Profesor Rodrigo Salas"
      ],
      "metadata": {
        "id": "C03GcVz8RZJa"
      }
    },
    {
      "cell_type": "markdown",
      "source": [
        "### 1. Problema:\n",
        "\n",
        "Se desea encontrar el máximo común divisor entre dos números enteros. Es decir, encontrar el número entero que divida a los dos números (divisibilidad) y que además sea el más grande."
      ],
      "metadata": {
        "id": "Ltld6pWhRiuq"
      }
    },
    {
      "cell_type": "markdown",
      "source": [
        "**a) Solución 1**"
      ],
      "metadata": {
        "id": "x8SI4ALjR4Rd"
      }
    },
    {
      "cell_type": "markdown",
      "source": [
        "Encontrar el listado de todos los números que son divisores de un número ingresado por el usuario."
      ],
      "metadata": {
        "id": "fv7gKtehUnkU"
      }
    },
    {
      "cell_type": "code",
      "source": [
        "n=int(input(\"Ingrese número: \"))\n",
        "print(\"El número ingresado es: \",n)\n",
        "#print(\"Los números ingresads son %d y %d\" %(n,m)) #versión con formateo\n",
        "divisores=[] #parto con lista vacía\n",
        "\n",
        "for i in range(1, n+1): #de 1 a n+1\n",
        "  if n%i==0:\n",
        "    print(\"es divisible por \",i)\n",
        "    divisores.append(i) #append permite añadir a listas, al final\n",
        "  else:\n",
        "    print(\"no es divisible por \",i)\n",
        "print(divisores)        #imprimo la lista de divisores de n"
      ],
      "metadata": {
        "id": "iI3BqvxpR8sf",
        "outputId": "323f4cf5-1b45-47f7-ef46-b0ae64883295",
        "colab": {
          "base_uri": "https://localhost:8080/"
        }
      },
      "execution_count": 2,
      "outputs": [
        {
          "output_type": "stream",
          "name": "stdout",
          "text": [
            "Ingrese número: 24\n",
            "El número ingresado es:  24\n",
            "es divisible por  1\n",
            "es divisible por  2\n",
            "es divisible por  3\n",
            "es divisible por  4\n",
            "no es divisible por  5\n",
            "es divisible por  6\n",
            "no es divisible por  7\n",
            "es divisible por  8\n",
            "no es divisible por  9\n",
            "no es divisible por  10\n",
            "no es divisible por  11\n",
            "es divisible por  12\n",
            "no es divisible por  13\n",
            "no es divisible por  14\n",
            "no es divisible por  15\n",
            "no es divisible por  16\n",
            "no es divisible por  17\n",
            "no es divisible por  18\n",
            "no es divisible por  19\n",
            "no es divisible por  20\n",
            "no es divisible por  21\n",
            "no es divisible por  22\n",
            "no es divisible por  23\n",
            "es divisible por  24\n",
            "[1, 2, 3, 4, 6, 8, 12, 24]\n"
          ]
        }
      ]
    },
    {
      "cell_type": "code",
      "execution_count": 3,
      "metadata": {
        "id": "UCNAwbFKQjOl",
        "outputId": "da774c4e-ce7b-46ef-b25c-952d9d2f689b",
        "colab": {
          "base_uri": "https://localhost:8080/"
        }
      },
      "outputs": [
        {
          "output_type": "execute_result",
          "data": {
            "text/plain": [
              "range(0, 10)"
            ]
          },
          "metadata": {},
          "execution_count": 3
        }
      ],
      "source": [
        "range(10) #tipo de variable que se denominan iteradores. \n",
        "#Al consumir los elementos los va sacando y transformarlos a lo que necesito.\n",
        "#Si hago un for in range(10) iría de 0 a 9."
      ]
    },
    {
      "cell_type": "code",
      "source": [
        "m=int(input(\"Ingrese número: \"))\n",
        "print(\"El número ingresado es: \",m)\n",
        "#print(\"Los números ingresads son %d y %d\" %(n,m)) #versión con formateo\n",
        "divisores2=[] #parto con lista vacía\n",
        "\n",
        "for i in range(1, m+1): #de 1 a n+1\n",
        "  if m%i==0:\n",
        "    print(\"es divisible por \",i)\n",
        "    divisores2.append(i) #append permite añadir a listas, al final\n",
        "  else:\n",
        "    print(\"no es divisible por \",i)\n",
        "print(divisores2)        #imprimo la lista de divisores de n"
      ],
      "metadata": {
        "colab": {
          "base_uri": "https://localhost:8080/"
        },
        "id": "toqmERK0WL7o",
        "outputId": "44949566-957d-4fcb-d26b-5181c032e87d"
      },
      "execution_count": 4,
      "outputs": [
        {
          "output_type": "stream",
          "name": "stdout",
          "text": [
            "Ingrese número: 60\n",
            "El número ingresado es:  60\n",
            "es divisible por  1\n",
            "es divisible por  2\n",
            "es divisible por  3\n",
            "es divisible por  4\n",
            "es divisible por  5\n",
            "es divisible por  6\n",
            "no es divisible por  7\n",
            "no es divisible por  8\n",
            "no es divisible por  9\n",
            "es divisible por  10\n",
            "no es divisible por  11\n",
            "es divisible por  12\n",
            "no es divisible por  13\n",
            "no es divisible por  14\n",
            "es divisible por  15\n",
            "no es divisible por  16\n",
            "no es divisible por  17\n",
            "no es divisible por  18\n",
            "no es divisible por  19\n",
            "es divisible por  20\n",
            "no es divisible por  21\n",
            "no es divisible por  22\n",
            "no es divisible por  23\n",
            "no es divisible por  24\n",
            "no es divisible por  25\n",
            "no es divisible por  26\n",
            "no es divisible por  27\n",
            "no es divisible por  28\n",
            "no es divisible por  29\n",
            "es divisible por  30\n",
            "no es divisible por  31\n",
            "no es divisible por  32\n",
            "no es divisible por  33\n",
            "no es divisible por  34\n",
            "no es divisible por  35\n",
            "no es divisible por  36\n",
            "no es divisible por  37\n",
            "no es divisible por  38\n",
            "no es divisible por  39\n",
            "no es divisible por  40\n",
            "no es divisible por  41\n",
            "no es divisible por  42\n",
            "no es divisible por  43\n",
            "no es divisible por  44\n",
            "no es divisible por  45\n",
            "no es divisible por  46\n",
            "no es divisible por  47\n",
            "no es divisible por  48\n",
            "no es divisible por  49\n",
            "no es divisible por  50\n",
            "no es divisible por  51\n",
            "no es divisible por  52\n",
            "no es divisible por  53\n",
            "no es divisible por  54\n",
            "no es divisible por  55\n",
            "no es divisible por  56\n",
            "no es divisible por  57\n",
            "no es divisible por  58\n",
            "no es divisible por  59\n",
            "es divisible por  60\n",
            "[1, 2, 3, 4, 5, 6, 10, 12, 15, 20, 30, 60]\n"
          ]
        }
      ]
    },
    {
      "cell_type": "code",
      "source": [
        "divisores"
      ],
      "metadata": {
        "colab": {
          "base_uri": "https://localhost:8080/"
        },
        "id": "DAt94jyTWiLB",
        "outputId": "89db10a7-6e2a-4f3a-d437-7a9f7ed818eb"
      },
      "execution_count": 5,
      "outputs": [
        {
          "output_type": "execute_result",
          "data": {
            "text/plain": [
              "[1, 2, 3, 4, 6, 8, 12, 24]"
            ]
          },
          "metadata": {},
          "execution_count": 5
        }
      ]
    },
    {
      "cell_type": "code",
      "source": [
        "divisores2"
      ],
      "metadata": {
        "colab": {
          "base_uri": "https://localhost:8080/"
        },
        "id": "vDtYZLWUWmK8",
        "outputId": "e33329ca-d626-4faa-b20e-8ede4b7537b4"
      },
      "execution_count": 6,
      "outputs": [
        {
          "output_type": "execute_result",
          "data": {
            "text/plain": [
              "[1, 2, 3, 4, 5, 6, 10, 12, 15, 20, 30, 60]"
            ]
          },
          "metadata": {},
          "execution_count": 6
        }
      ]
    },
    {
      "cell_type": "markdown",
      "source": [
        "Encapsular el mecanismo que se repite en una función:"
      ],
      "metadata": {
        "id": "saZdeo-sW3Qj"
      }
    },
    {
      "cell_type": "code",
      "source": [
        "def calcular_divisores(n):\n",
        "  divisores=[] #parto con lista vacía\n",
        "  for i in range(1, n+1): #de 1 a n+1\n",
        "    if n%i==0:\n",
        "        #print(\"es divisible por \",i)\n",
        "        divisores.append(i) #append permite añadir a listas, al final\n",
        "    #else:\n",
        "        #print(\"no es divisible por \",i)\n",
        "  return(divisores)        #imprimo la lista de divisores de n"
      ],
      "metadata": {
        "id": "GN62UrOHXAtH"
      },
      "execution_count": 7,
      "outputs": []
    },
    {
      "cell_type": "code",
      "source": [
        "def calcular_divisores_python(n):                 #forma propia de Python\n",
        "  divisores=[i for i in range(1,n+1) if n%i==0]   #en la lista irán los elementos del for que cumplen la condición\n",
        "  return(divisores)        "
      ],
      "metadata": {
        "id": "pEjbOc5lYbKP"
      },
      "execution_count": 8,
      "outputs": []
    },
    {
      "cell_type": "code",
      "source": [
        "n=int(input(\"Ingrese número: \"))\n",
        "print(\"El número ingresado es: \",n)\n",
        "divisores_n=calcular_divisores(n)\n",
        "print(divisores_n)\n",
        "\n"
      ],
      "metadata": {
        "colab": {
          "base_uri": "https://localhost:8080/"
        },
        "id": "MYNnkeo8XY-q",
        "outputId": "07dc0900-603f-4182-949a-79977e3a00a9"
      },
      "execution_count": 9,
      "outputs": [
        {
          "output_type": "stream",
          "name": "stdout",
          "text": [
            "Ingrese número: 24\n",
            "El número ingresado es:  24\n",
            "[1, 2, 3, 4, 6, 8, 12, 24]\n"
          ]
        }
      ]
    },
    {
      "cell_type": "code",
      "source": [
        "m=int(input(\"Ingrese número: \"))\n",
        "print(\"El número ingresado es: \",m)\n",
        "divisores_m=calcular_divisores(m)\n",
        "print(divisores_m)"
      ],
      "metadata": {
        "colab": {
          "base_uri": "https://localhost:8080/"
        },
        "id": "xIcOJ0lsXpoD",
        "outputId": "ded826f8-5b31-4c6e-b9ca-848aeea99d59"
      },
      "execution_count": 10,
      "outputs": [
        {
          "output_type": "stream",
          "name": "stdout",
          "text": [
            "Ingrese número: 60\n",
            "El número ingresado es:  60\n",
            "[1, 2, 3, 4, 5, 6, 10, 12, 15, 20, 30, 60]\n"
          ]
        }
      ]
    },
    {
      "cell_type": "code",
      "source": [
        "#divisores_n\n",
        "#divisores_m\n",
        "maximo_comun_divisor=1\n",
        "for x in divisores_n:   #los elementos en divisores n\n",
        "  for y in divisores_m: #los elementos de la otra lista\n",
        "    if x==y and x>maximo_comun_divisor:   #esta forma genera todas las combinaciones y luego compara\n",
        "      maximo_comun_divisor=x\n",
        "print(maximo_comun_divisor)"
      ],
      "metadata": {
        "colab": {
          "base_uri": "https://localhost:8080/"
        },
        "id": "E2shsCcRZXya",
        "outputId": "d41fad92-fa2f-4f02-f704-68dad4407be4"
      },
      "execution_count": 11,
      "outputs": [
        {
          "output_type": "stream",
          "name": "stdout",
          "text": [
            "12\n"
          ]
        }
      ]
    },
    {
      "cell_type": "markdown",
      "source": [
        "Intersectándolos como conjuntos y sacando el máximo:"
      ],
      "metadata": {
        "id": "N9bDKJtba3nm"
      }
    },
    {
      "cell_type": "code",
      "source": [
        "max(set(divisores_n) & set(divisores_m))      # & funciona como intersección"
      ],
      "metadata": {
        "colab": {
          "base_uri": "https://localhost:8080/"
        },
        "id": "pIcxXpoMa65l",
        "outputId": "f1b95066-8d56-40ba-935c-f550231f2f0e"
      },
      "execution_count": 12,
      "outputs": [
        {
          "output_type": "execute_result",
          "data": {
            "text/plain": [
              "12"
            ]
          },
          "metadata": {},
          "execution_count": 12
        }
      ]
    },
    {
      "cell_type": "markdown",
      "source": [
        "**b) Solución 2**\n",
        "\n",
        "Algoritmo de Euclides. Es una función recurrente. Se aplica hasta que la segunda componente se hace 0."
      ],
      "metadata": {
        "id": "Nyg4SfFJbG6b"
      }
    },
    {
      "cell_type": "code",
      "source": [
        "def gcd(m,n):\n",
        "  print(\"m = \",m, \"; n = \",n)\n",
        "  if n==0:\n",
        "    return m\n",
        "  return gcd(n,m%n)"
      ],
      "metadata": {
        "id": "JwZaXU-0bTN5"
      },
      "execution_count": 13,
      "outputs": []
    },
    {
      "cell_type": "code",
      "source": [
        "gcd(60,24)"
      ],
      "metadata": {
        "colab": {
          "base_uri": "https://localhost:8080/"
        },
        "id": "qaeGu1yLbb4A",
        "outputId": "16ff01e5-cbc3-4018-fa7b-62c9f5220df0"
      },
      "execution_count": 14,
      "outputs": [
        {
          "output_type": "stream",
          "name": "stdout",
          "text": [
            "m =  60 ; n =  24\n",
            "m =  24 ; n =  12\n",
            "m =  12 ; n =  0\n"
          ]
        },
        {
          "output_type": "execute_result",
          "data": {
            "text/plain": [
              "12"
            ]
          },
          "metadata": {},
          "execution_count": 14
        }
      ]
    },
    {
      "cell_type": "code",
      "source": [
        "gcd(24,60)            #de este modo, primero va a invertir por el módulo 24%60=24"
      ],
      "metadata": {
        "colab": {
          "base_uri": "https://localhost:8080/"
        },
        "id": "vH-p75RmdxYS",
        "outputId": "65fd8871-aabe-40ff-9de6-458e05d317dc"
      },
      "execution_count": 15,
      "outputs": [
        {
          "output_type": "stream",
          "name": "stdout",
          "text": [
            "m =  24 ; n =  60\n",
            "m =  60 ; n =  24\n",
            "m =  24 ; n =  12\n",
            "m =  12 ; n =  0\n"
          ]
        },
        {
          "output_type": "execute_result",
          "data": {
            "text/plain": [
              "12"
            ]
          },
          "metadata": {},
          "execution_count": 15
        }
      ]
    },
    {
      "cell_type": "markdown",
      "source": [
        "**c) Solución 3**\n",
        "\n",
        "Encontrar los factores primos y multiplicar los factores primos comunes."
      ],
      "metadata": {
        "id": "sIv5mrhEeeT7"
      }
    },
    {
      "cell_type": "code",
      "source": [
        "x=int(input(\"Ingrese un número entero: \"))\n",
        "listado=calcular_divisores(x)\n",
        "if len(listado)==2 :                          #sólo tiene a 1 y sí mismo\n",
        "  print(\"Es primo\")"
      ],
      "metadata": {
        "colab": {
          "base_uri": "https://localhost:8080/"
        },
        "id": "foZjfLreep3p",
        "outputId": "6a433ee5-c07b-4cbc-fada-026c49329ff3"
      },
      "execution_count": 35,
      "outputs": [
        {
          "name": "stdout",
          "output_type": "stream",
          "text": [
            "Ingrese un número entero: 24\n"
          ]
        }
      ]
    },
    {
      "cell_type": "code",
      "source": [
        "def es_primo(x):\n",
        "  listado=calcular_divisores(x)\n",
        "  if len(listado)==2:\n",
        "    return True\n",
        "  return False"
      ],
      "metadata": {
        "id": "p25iI6wEgAfb"
      },
      "execution_count": 17,
      "outputs": []
    },
    {
      "cell_type": "code",
      "source": [
        "n=int(input(\"Ingrese un número entero: \"))\n",
        "x=2\n",
        "divisores_primos1=[]\n",
        "dpb1=[]\n",
        "while(n>1):\n",
        "  if n%x==0 and es_primo(x):\n",
        "    divisores_primos1.append(x)\n",
        "    dpb1.append(True)\n",
        "    n=n/x\n",
        "    #print(\"primo agregado: \", x)\n",
        "  else:\n",
        "    x=x+1\n",
        "    #print(\"x = \",x)\n",
        "divisores_primos1\n"
      ],
      "metadata": {
        "colab": {
          "base_uri": "https://localhost:8080/"
        },
        "id": "7Fkbk8BLfWRR",
        "outputId": "c92c3c34-deb6-4b89-e6bc-d03ed0c4d50a"
      },
      "execution_count": 75,
      "outputs": [
        {
          "name": "stdout",
          "output_type": "stream",
          "text": [
            "Ingrese un número entero: 75\n"
          ]
        },
        {
          "output_type": "execute_result",
          "data": {
            "text/plain": [
              "[3, 5, 5]"
            ]
          },
          "metadata": {},
          "execution_count": 75
        }
      ]
    },
    {
      "cell_type": "code",
      "source": [
        "m=int(input(\"Ingrese un número entero: \"))\n",
        "x=2\n",
        "divisores_primos2=[]\n",
        "dpb2=[]\n",
        "while(m>1):\n",
        "  if m%x==0 and es_primo(x):\n",
        "    divisores_primos2.append(x)\n",
        "    dpb2.append(True)\n",
        "    m=m/x\n",
        "    #print(\"primo agregado: \", x)\n",
        "  else:\n",
        "    x=x+1\n",
        "    #print(\"x = \",x)\n",
        "divisores_primos2\n"
      ],
      "metadata": {
        "colab": {
          "base_uri": "https://localhost:8080/"
        },
        "id": "h4506sYbdTrm",
        "outputId": "c1311ff6-4d27-4f82-c947-5a199d662324"
      },
      "execution_count": 76,
      "outputs": [
        {
          "name": "stdout",
          "output_type": "stream",
          "text": [
            "Ingrese un número entero: 15\n"
          ]
        },
        {
          "output_type": "execute_result",
          "data": {
            "text/plain": [
              "[3, 5]"
            ]
          },
          "metadata": {},
          "execution_count": 76
        }
      ]
    },
    {
      "cell_type": "code",
      "source": [
        "multi=1\n",
        "for i in range(0,len(divisores_primos1)):\n",
        "  #print(divisores_primos1[i])\n",
        "  for j in range(0,len(divisores_primos2)):\n",
        "    if divisores_primos1[i]==divisores_primos2[j]:\n",
        "      if dpb2[j]:\n",
        "        print(\"Divisor común: \",divisores_primos2[j])\n",
        "        multi=multi*divisores_primos2[j]\n",
        "        dpb2[j]=False\n",
        "        break\n",
        "multi"
      ],
      "metadata": {
        "colab": {
          "base_uri": "https://localhost:8080/"
        },
        "id": "yvAOiMyydt1_",
        "outputId": "21c7c5d0-1308-4141-e585-19e8f040e189"
      },
      "execution_count": 77,
      "outputs": [
        {
          "output_type": "stream",
          "name": "stdout",
          "text": [
            "Divisor común:  3\n",
            "Divisor común:  5\n"
          ]
        },
        {
          "output_type": "execute_result",
          "data": {
            "text/plain": [
              "15"
            ]
          },
          "metadata": {},
          "execution_count": 77
        }
      ]
    },
    {
      "cell_type": "markdown",
      "source": [
        "----"
      ],
      "metadata": {
        "id": "0PZ4Gi1saVB9"
      }
    },
    {
      "cell_type": "code",
      "source": [
        "#n=int(input(\"Ingrese número: \"))\n",
        "#m=int(input(\"Ingrese número: \"))\n",
        "#print(\"Los números ingresados son: \",n, \" y \", m)\n",
        "#print(\"Los números ingresads son %d y %d\" %(n,m)) #versión con formateo\n",
        "\n",
        "#for i in range(1, n+1): #de 1 a n+1\n",
        "#  if n%i==0:\n",
        "#    print(\"es divisible por \",i)\n",
        "#  else:\n",
        "#    print(\"no es divisible por \",i)\n"
      ],
      "metadata": {
        "id": "84GvtaAZU-Bm"
      },
      "execution_count": 19,
      "outputs": []
    }
  ]
}